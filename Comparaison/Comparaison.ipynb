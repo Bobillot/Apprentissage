{
 "cells": [
  {
   "cell_type": "code",
   "execution_count": 4,
   "metadata": {},
   "outputs": [],
   "source": [
    "from sklearn.svm import SVC\n",
    "import sklearn.neural_network as nn\n",
    "import sklearn.model_selection\n",
    "import sklearn.metrics as metrics\n",
    "import numpy as np\n",
    "import sklearn.neighbors as neighbors\n",
    "import time\n",
    "import matplotlib.pyplot as plt\n",
    "from sklearn.datasets import fetch_openml\n",
    "mnist = fetch_openml('mnist_784') "
   ]
  },
  {
   "cell_type": "code",
   "execution_count": 5,
   "metadata": {},
   "outputs": [],
   "source": [
    "trainsize=0.7\n",
    "size=10000\n",
    "data=np.random.randint(70000, size=size)\n",
    "xtrain, xtest, ytrain, ytest = sklearn.model_selection.train_test_split(mnist.data[data], mnist.target[data],\n",
    "train_size=trainsize)"
   ]
  },
  {
   "cell_type": "code",
   "execution_count": 9,
   "metadata": {},
   "outputs": [
    {
     "name": "stdout",
     "output_type": "stream",
     "text": [
      "KNN : scoretest=0.94\n",
      "KNN : scoretrain=0.971\n",
      "[[302   0   0   0   0   1   1   0   0   0]\n",
      " [  0 344   3   0   0   0   0   0   0   0]\n",
      " [  6   7 252   2   0   1   2  10   3   1]\n",
      " [  0   2   5 274   0   4   0   0   1   2]\n",
      " [  2   7   1   0 292   0   5   0   0  10]\n",
      " [  2   1   0  11   0 263   5   0   1   0]\n",
      " [  3   1   0   0   0   1 298   0   0   0]\n",
      " [  0  15   1   0   1   0   2 276   0   4]\n",
      " [  1   9   2   5   3   6   0   4 248   3]\n",
      " [  2   2   0   4   5   0   0  10   0 271]]\n",
      "ANN : scoretest=0.9246666666666666\n",
      "ANN : scoretrain=0.9908571428571429\n",
      "[[290   0   5   2   1   2   2   0   0   2]\n",
      " [  1 340   1   0   0   2   0   0   2   1]\n",
      " [  3   1 259   4   6   0   2   2   4   3]\n",
      " [  1   2   8 264   0   6   0   0   6   1]\n",
      " [  0   3   3   0 298   0   4   0   3   6]\n",
      " [  2   8   0   4   0 258   4   1   4   2]\n",
      " [  2   1   5   1   3   4 283   0   4   0]\n",
      " [  2   6   4   3   2   0   0 275   2   5]\n",
      " [  1  10   4   4   2   2   2   0 254   2]\n",
      " [  0   0   0   5  14   0   0  19   3 253]]\n",
      "SVM : scoretest=0.939\n",
      "SVM : scoretrain=0.9868571428571429\n",
      "[[297   0   0   0   1   3   2   0   1   0]\n",
      " [  0 340   3   0   0   0   0   0   3   1]\n",
      " [  3   8 254   5   2   2   1   4   4   1]\n",
      " [  0   2   7 269   0   6   0   2   2   0]\n",
      " [  1   5   0   0 299   0   6   0   0   6]\n",
      " [  2   2   1   6   0 265   3   2   0   2]\n",
      " [  2   1   1   0   1   1 297   0   0   0]\n",
      " [  0  17   1   2   1   0   0 271   3   4]\n",
      " [  1   6   0   3   1   6   1   1 259   3]\n",
      " [  4   3   0   5   4   2   0   7   3 266]]\n"
     ]
    },
    {
     "data": {
      "image/png": "[encoded data removed]",
      "text/plain": [
       "<Figure size 432x288 with 2 Axes>"
      ]
     },
     "metadata": {
      "needs_background": "light"
     },
     "output_type": "display_data"
    }
   ],
   "source": [
    "scoreTest=[]\n",
    "scoreTrain=[]\n",
    "times=[]\n",
    "\n",
    "# KNN\n",
    "start=time.time()\n",
    "clf = neighbors.KNeighborsClassifier(3,n_jobs=-1,p=3)\n",
    "clf.fit(xtrain, ytrain)\n",
    "tempscore=clf.score(xtest,ytest)\n",
    "scoreTest.append(tempscore)\n",
    "print(\"KNN : scoretest=\"+str(tempscore))\n",
    "tempscore=clf.score(xtrain,ytrain)\n",
    "scoreTrain.append(tempscore)\n",
    "print(\"KNN : scoretrain=\"+str(tempscore))\n",
    "length=time.time()-start\n",
    "times.append(length)\n",
    "print(metrics.confusion_matrix(ytest,clf.predict(xtest)))\n",
    "# ANN\n",
    "start=time.time()\n",
    "clf = nn.MLPClassifier(hidden_layer_sizes=(50,)*20,solver='adam')\n",
    "clf.fit(xtrain, ytrain)\n",
    "tempscore=clf.score(xtest,ytest)\n",
    "scoreTest.append(tempscore)\n",
    "print(\"ANN : scoretest=\"+str(tempscore))\n",
    "tempscore=clf.score(xtrain,ytrain)\n",
    "scoreTrain.append(tempscore)\n",
    "print(\"ANN : scoretrain=\"+str(tempscore))\n",
    "length=time.time()-start\n",
    "times.append(length)\n",
    "print(metrics.confusion_matrix(ytest,clf.predict(xtest)))\n",
    "# SVM\n",
    "start=time.time()\n",
    "clf = SVC(kernel='poly',gamma='scale',C=1)\n",
    "clf.fit(xtrain, ytrain)\n",
    "tempscore=clf.score(xtest,ytest)\n",
    "scoreTest.append(tempscore)\n",
    "print(\"SVM : scoretest=\"+str(tempscore))\n",
    "tempscore=clf.score(xtrain,ytrain)\n",
    "scoreTrain.append(tempscore)\n",
    "print(\"SVM : scoretrain=\"+str(tempscore))\n",
    "length=time.time()-start\n",
    "times.append(length)\n",
    "print(metrics.confusion_matrix(ytest,clf.predict(xtest)))\n",
    "\n",
    "plt.subplot(2,1,1)\n",
    "plt.scatter(('KNN','ANN','SVM'),scoreTest,c='r',label='Test')\n",
    "plt.title(\"Precisions / methode\")\n",
    "plt.xlabel(\"Methode\")\n",
    "plt.ylabel(\"Precisions\")\n",
    "plt.scatter(('KNN','ANN','SVM'),scoreTrain,c='b',label='Train')\n",
    "plt.legend(loc='upper left',bbox_to_anchor=(1,0.5))\n",
    "plt.subplot(2,1,2)\n",
    "plt.scatter(('KNN','ANN','SVM'),times)\n",
    "plt.title(\"Exectime / methode\")\n",
    "plt.xlabel(\"Methode\")\n",
    "plt.ylabel(\"Exectime(s)\")\n",
    "plt.tight_layout(pad=0.4, w_pad=0.5, h_pad=1.0)\n",
    "plt.show()"
   ]
  },
  {
   "cell_type": "code",
   "execution_count": null,
   "metadata": {},
   "outputs": [],
   "source": []
  }
 ],
 "metadata": {
  "kernelspec": {
   "display_name": "Python 3",
   "language": "python",
   "name": "python3"
  },
  "language_info": {
   "codemirror_mode": {
    "name": "ipython",
    "version": 3
   },
   "file_extension": ".py",
   "mimetype": "text/x-python",
   "name": "python",
   "nbconvert_exporter": "python",
   "pygments_lexer": "ipython3",
   "version": "3.7.3"
  },
  "latex_envs": {
   "LaTeX_envs_menu_present": true,
   "autoclose": false,
   "autocomplete": true,
   "bibliofile": "biblio.bib",
   "cite_by": "apalike",
   "current_citInitial": 1,
   "eqLabelWithNumbers": true,
   "eqNumInitial": 1,
   "hotkeys": {
    "equation": "Ctrl-E",
    "itemize": "Ctrl-I"
   },
   "labels_anchors": false,
   "latex_user_defs": false,
   "report_style_numbering": false,
   "user_envs_cfg": false
  }
 },
 "nbformat": 4,
 "nbformat_minor": 2
}
