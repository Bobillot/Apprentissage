{
 "cells": [
  {
   "cell_type": "code",
   "execution_count": 40,
   "metadata": {},
   "outputs": [],
   "source": [
    "import sklearn.neighbors as neighbors\n",
    "import sklearn.model_selection\n",
    "import time\n",
    "import numpy as np\n",
    "import matplotlib.pyplot as plt\n",
    "from sklearn.metrics import confusion_matrix, r2_score\n",
    "from sklearn.datasets import fetch_openml\n",
    "from sklearn import svm\n",
    "import csv"
   ]
  },
  {
   "cell_type": "code",
   "execution_count": 13,
   "metadata": {},
   "outputs": [],
   "source": [
    "X = [] # Contient tous les vecteurs [annee,semaine,jour,heure,weather]\n",
    "Y = [] # Contient toutes les affluences (representees par un entier, somme des departs et arrivees)\n",
    "with open('519dataframe.csv', 'r') as f:\n",
    "    reader = csv.reader(f)\n",
    "    next(reader,None)\n",
    "    for line in reader: \n",
    "        temp=[]\n",
    "        a=line[0].replace(\"[\",\"\").replace(\"]\",\"\").replace(\".0\",\"\").split(\",\")\n",
    "        for elem in a:\n",
    "            temp.append(int(elem))\n",
    "        X.append(temp)\n",
    "        Y.append(int(line[1]))"
   ]
  },
  {
   "cell_type": "code",
   "execution_count": 15,
   "metadata": {},
   "outputs": [
    {
     "name": "stdout",
     "output_type": "stream",
     "text": [
      "38640\n",
      "38640\n",
      "[2013, 21, 6, 3, 1]\n",
      "0\n"
     ]
    }
   ],
   "source": [
    "print(str(len(X))) # On verifie que X et Y font bien la meme longueur (=nbr lignes du csv)\n",
    "print(str(len(Y)))\n",
    "print(X[3])        # On verifie que X et Y ont bien la forme que l'on veut (X vecteur et Y entier)\n",
    "print(Y[3]) "
   ]
  },
  {
   "cell_type": "code",
   "execution_count": 16,
   "metadata": {},
   "outputs": [],
   "source": [
    "percentTrain=0.7   # Pourcentage de valeurs d'entrainement\n",
    "xtrain, xtest, ytrain, ytest = sklearn.model_selection.train_test_split(X, Y,train_size=percentTrain) "
   ]
  },
  {
   "cell_type": "code",
   "execution_count": 19,
   "metadata": {},
   "outputs": [
    {
     "name": "stdout",
     "output_type": "stream",
     "text": [
      "27048\n",
      "27048\n",
      "11592\n",
      "11592\n"
     ]
    }
   ],
   "source": [
    "print(str(len(xtrain)))   # On verifie que xtrain et ytrain ont le meme nombre d'elements\n",
    "print(str(len(ytrain)))\n",
    "print(str(len(xtest)))    # On verifie que xtest et ytest ont le meme nombre d'elements\n",
    "print(str(len(ytest)))"
   ]
  },
  {
   "cell_type": "code",
   "execution_count": 36,
   "metadata": {},
   "outputs": [
    {
     "name": "stderr",
     "output_type": "stream",
     "text": [
      "C:\\ProgramData\\Anaconda3\\lib\\site-packages\\sklearn\\svm\\base.py:193: FutureWarning: The default value of gamma will change from 'auto' to 'scale' in version 0.22 to account better for unscaled features. Set gamma explicitly to 'auto' or 'scale' to avoid this warning.\n",
      "  \"avoid this warning.\", FutureWarning)\n"
     ]
    }
   ],
   "source": [
    "clf = svm.SVR()      # Entrainement. Il faut explorer quels sont les parametres modifiables et les modifier pour \n",
    "clf= clf.fit(xtrain, ytrain)  # essayer d'avoir un meilleur score"
   ]
  },
  {
   "cell_type": "code",
   "execution_count": 37,
   "metadata": {},
   "outputs": [
    {
     "data": {
      "text/plain": [
       "1"
      ]
     },
     "execution_count": 37,
     "metadata": {},
     "output_type": "execute_result"
    }
   ],
   "source": [
    "# On peut faire des predictions ponctuelles : \n",
    "# quelle affluence le 6eme jour de la 21eme semaine de l'annee 2016 a 2h avec un beau temps (derniere colonne = 1) ?\n",
    "int(clf.predict([[2016,21,6,2,1]])) "
   ]
  },
  {
   "cell_type": "code",
   "execution_count": 38,
   "metadata": {},
   "outputs": [
    {
     "name": "stdout",
     "output_type": "stream",
     "text": [
      "[2014, 34, 1, 12, 2]\n",
      "20\n",
      "14\n"
     ]
    }
   ],
   "source": [
    "# On peut faire une prediction ponctuelle et la comparer avec le resultat reel du dataset\n",
    "print(xtest[0])  # Premier element de test\n",
    "print(ytest[0])  # Valeur du y associe (qu'on espere retrouver avec notre modele)\n",
    "print(str(int(clf.predict([xtest[0]])))) # valeur trouvee par le modele"
   ]
  },
  {
   "cell_type": "code",
   "execution_count": 39,
   "metadata": {},
   "outputs": [
    {
     "name": "stdout",
     "output_type": "stream",
     "text": [
      "0.3793322157852026\n"
     ]
    }
   ],
   "source": [
    "# On peut predire sur toutes les valeurs de test d'un coup et calculer le score du modele :\n",
    "# Cela revient a faire la cellule d'avant mais sur l'ensemble des listes xtest et ytest\n",
    "print(clf.score(xtest, ytest))"
   ]
  },
  {
   "cell_type": "code",
   "execution_count": 45,
   "metadata": {},
   "outputs": [
    {
     "name": "stdout",
     "output_type": "stream",
     "text": [
      "0.3793322157852026\n"
     ]
    }
   ],
   "source": [
    "# \"score\" n'est pas forcément la meilleure façon d'evaluer notre modele, on peut aussi en prendre d'autres:\n",
    "# voir https://scikit-learn.org/stable/modules/model_evaluation.html\n",
    "# par exemple r2 score :\n",
    "y_pred=[] # liste des valeurs predites par le modele\n",
    "for elem in xtest:\n",
    "    y_pred.append(clf.predict([elem]))\n",
    "print(r2_score(ytest,y_pred))"
   ]
  },
  {
   "cell_type": "code",
   "execution_count": null,
   "metadata": {},
   "outputs": [],
   "source": [
    "# Bon visiblement score et r2 score c'est pareil. On peut soit chercher d'autres metriques soit se contenter de celle la.\n",
    "# Dans tous les cas,il faut faire varier les parametres du classifieur pour essayer d'avoir un meilleur score sur les metriques\n",
    "# choisies."
   ]
  }
 ],
 "metadata": {
  "kernelspec": {
   "display_name": "Python 3",
   "language": "python",
   "name": "python3"
  },
  "language_info": {
   "codemirror_mode": {
    "name": "ipython",
    "version": 3
   },
   "file_extension": ".py",
   "mimetype": "text/x-python",
   "name": "python",
   "nbconvert_exporter": "python",
   "pygments_lexer": "ipython3",
   "version": "3.7.4"
  },
  "latex_envs": {
   "LaTeX_envs_menu_present": true,
   "autoclose": false,
   "autocomplete": true,
   "bibliofile": "biblio.bib",
   "cite_by": "apalike",
   "current_citInitial": 1,
   "eqLabelWithNumbers": true,
   "eqNumInitial": 1,
   "hotkeys": {
    "equation": "Ctrl-E",
    "itemize": "Ctrl-I"
   },
   "labels_anchors": false,
   "latex_user_defs": false,
   "report_style_numbering": false,
   "user_envs_cfg": false
  }
 },
 "nbformat": 4,
 "nbformat_minor": 2
}
