{
 "cells": [
  {
   "cell_type": "code",
   "execution_count": 1,
   "metadata": {},
   "outputs": [],
   "source": [
    "from sklearn.svm import SVC\n",
    "import sklearn.neural_network as nn\n",
    "import sklearn.model_selection\n",
    "import sklearn.metrics as metrics\n",
    "import numpy as np\n",
    "import time\n",
    "import matplotlib.pyplot as plt\n",
    "from sklearn.datasets import fetch_openml\n",
    "mnist = fetch_openml('mnist_784') "
   ]
  },
  {
   "cell_type": "code",
   "execution_count": 2,
   "metadata": {},
   "outputs": [],
   "source": [
    "# Diviser la base de données en 70% pour l’apprentissage (training) et le reste pour les tests. \n",
    "trainsize=0.7\n",
    "size=10000\n",
    "data=np.random.randint(70000, size=size)\n",
    "xtrain, xtest, ytrain, ytest = sklearn.model_selection.train_test_split(mnist.data[data], mnist.target[data],\n",
    "train_size=trainsize)"
   ]
  },
  {
   "cell_type": "code",
   "execution_count": 4,
   "metadata": {},
   "outputs": [
    {
     "name": "stdout",
     "output_type": "stream",
     "text": [
      "Avec 10000 echantillons : Taux de réussite=0.921, temps d'éxecution : 9.77307653427124 secondes\n"
     ]
    }
   ],
   "source": [
    "# EN se basant sur les fonctions usuelles :\n",
    "# classifier = svm.SVC()\n",
    "# classifier.fit()\n",
    "# predicted = classifier.predict()\n",
    "# Construire un modèle de classification ayant comme paramètres un noyau\n",
    "# linear: clsvm = svm.SVC(kernel=’linear’). \n",
    "start=time.time()\n",
    "clf = SVC(kernel='linear',gamma='scale')\n",
    "clf.fit(xtrain, ytrain)\n",
    "score=clf.score(xtest,ytest)\n",
    "length=time.time()-start\n",
    "print(\"Avec \"+str(size)+\" echantillons : Taux de réussite=\"+str(score)+\", temps d'éxecution : \"+str(length)+\" secondes\")"
   ]
  },
  {
   "cell_type": "code",
   "execution_count": 13,
   "metadata": {},
   "outputs": [
    {
     "name": "stdout",
     "output_type": "stream",
     "text": [
      "with kernel=linear, score=0.921, exec time=9.702046632766724\n",
      "with kernel=poly, score=0.9506666666666667, exec time=15.000524520874023\n",
      "with kernel=rbf, score=0.9606666666666667, exec time=16.511226654052734\n",
      "with kernel=sigmoid, score=0.837, exec time=16.757350206375122\n"
     ]
    },
    {
     "data": {
      "image/png": "[encoded data removed]",
      "text/plain": [
       "<Figure size 432x288 with 2 Axes>"
      ]
     },
     "metadata": {
      "needs_background": "light"
     },
     "output_type": "display_data"
    }
   ],
   "source": [
    "scores=[]\n",
    "times=[]\n",
    "for kernel in ('linear','poly','rbf','sigmoid'):\n",
    "    start=time.time()\n",
    "    clf = SVC(kernel=kernel,gamma='scale')\n",
    "    clf.fit(xtrain, ytrain)\n",
    "    score=clf.score(xtest,ytest)\n",
    "    scores.append(score)\n",
    "    length=time.time()-start\n",
    "    times.append(length)\n",
    "    print(\"with kernel=\"+str(kernel)+\", score=\"+str(score)+\", exec time=\"+str(length))\n",
    "plt.subplot(2,1,1)\n",
    "plt.scatter(('linear','poly','rbf','sigmoid'),scores)\n",
    "plt.title(\"Réussite / kernel\")\n",
    "plt.xlabel(\"kernel\")\n",
    "plt.ylabel(\"Taux de réussite\")\n",
    "plt.subplot(2,1,2)\n",
    "plt.scatter(('linear','poly','rbf','sigmoid'),times)\n",
    "plt.title(\"Exectime / kernel\")\n",
    "plt.xlabel(\"kernel\")\n",
    "plt.ylabel(\"Exectime(s)\")\n",
    "plt.tight_layout(pad=0.4, w_pad=0.5, h_pad=1.0)\n",
    "plt.show()"
   ]
  },
  {
   "cell_type": "code",
   "execution_count": 20,
   "metadata": {},
   "outputs": [
    {
     "name": "stdout",
     "output_type": "stream",
     "text": [
      "with C =0.1, scoretest=0.9233333333333333\n",
      "with C =0.1, scoretrain=0.9362857142857143\n",
      "with C =0.25, scoretest=0.9393333333333334\n",
      "with C =0.25, scoretrain=0.958\n",
      "with C =0.5, scoretest=0.95\n",
      "with C =0.5, scoretrain=0.972\n",
      "with C =0.75, scoretest=0.9566666666666667\n",
      "with C =0.75, scoretrain=0.9824285714285714\n",
      "with C =1, scoretest=0.9606666666666667\n",
      "with C =1, scoretrain=0.9867142857142858\n"
     ]
    },
    {
     "data": {
      "image/png": "[encoded data removed]",
      "text/plain": [
       "<Figure size 432x288 with 2 Axes>"
      ]
     },
     "metadata": {
      "needs_background": "light"
     },
     "output_type": "display_data"
    }
   ],
   "source": [
    "# erreur classification en fonction de C (sur les données de test et d'entrainement)\n",
    "scoretest=[]\n",
    "scoretrain=[]\n",
    "times=[]\n",
    "for i in [0.1,0.25,0.5,0.75,1]:\n",
    "    start=time.time()\n",
    "    clf = SVC(C=i,gamma='scale')\n",
    "    clf.fit(xtrain, ytrain)\n",
    "    tempscore=clf.score(xtest,ytest)\n",
    "    scoretest.append(tempscore)\n",
    "    print(\"with C =\"+str(i)+\", scoretest=\"+str(tempscore))\n",
    "    tempscore=clf.score(xtrain,ytrain)\n",
    "    scoretrain.append(tempscore)\n",
    "    print(\"with C =\"+str(i)+\", scoretrain=\"+str(tempscore))\n",
    "    length=time.time()-start\n",
    "    times.append(length)\n",
    "plt.subplot(2,1,1)\n",
    "plt.scatter(('0.1','0.25','0.5','0.75','1'),scoretest,c='r',label='Test')\n",
    "plt.title(\"Réussite test-train / tolérance\")\n",
    "plt.xlabel(\"tolérance\")\n",
    "plt.ylabel(\"Réussite Test/train\")\n",
    "plt.scatter(('0.1','0.25','0.5','0.75','1'),scoretrain,c='b',label='Train')\n",
    "plt.legend(loc='upper left',bbox_to_anchor=(1,0.5))\n",
    "plt.subplot(2,1,2)\n",
    "plt.scatter(('0.1','0.25','0.5','0.75','1'),times)\n",
    "plt.title(\"Exectime / tolérance\")\n",
    "plt.xlabel(\"tolérance\")\n",
    "plt.ylabel(\"Exectime(s)\")\n",
    "plt.tight_layout(pad=0.4, w_pad=0.5, h_pad=1.0)\n",
    "plt.show()"
   ]
  },
  {
   "cell_type": "code",
   "execution_count": 21,
   "metadata": {},
   "outputs": [
    {
     "data": {
      "text/plain": [
       "array([[293,   0,   0,   0,   0,   2,   1,   0,   1,   0],\n",
       "       [  0, 300,   1,   1,   0,   1,   0,   0,   0,   0],\n",
       "       [  1,   1, 297,   1,   3,   0,   2,   1,   3,   1],\n",
       "       [  0,   1,   6, 274,   0,   4,   2,   1,   2,   0],\n",
       "       [  1,   0,   0,   0, 282,   0,   3,   1,   1,   6],\n",
       "       [  0,   0,   1,   7,   5, 259,   4,   0,   3,   1],\n",
       "       [  1,   0,   0,   0,   0,   2, 317,   0,   0,   0],\n",
       "       [  1,   3,   2,   1,   1,   0,   0, 328,   0,  10],\n",
       "       [  0,   1,   2,   4,   1,   4,   1,   0, 266,   1],\n",
       "       [  0,   0,   1,   1,   5,   1,   0,   5,   1, 266]])"
      ]
     },
     "execution_count": 21,
     "metadata": {},
     "output_type": "execute_result"
    }
   ],
   "source": [
    "## matrice de confusion\n",
    "metrics.confusion_matrix(ytest,clf.predict(xtest))"
   ]
  },
  {
   "cell_type": "code",
   "execution_count": null,
   "metadata": {},
   "outputs": [],
   "source": []
  }
 ],
 "metadata": {
  "kernelspec": {
   "display_name": "Python 3",
   "language": "python",
   "name": "python3"
  },
  "language_info": {
   "codemirror_mode": {
    "name": "ipython",
    "version": 3
   },
   "file_extension": ".py",
   "mimetype": "text/x-python",
   "name": "python",
   "nbconvert_exporter": "python",
   "pygments_lexer": "ipython3",
   "version": "3.7.3"
  },
  "latex_envs": {
   "LaTeX_envs_menu_present": true,
   "autoclose": false,
   "autocomplete": true,
   "bibliofile": "biblio.bib",
   "cite_by": "apalike",
   "current_citInitial": 1,
   "eqLabelWithNumbers": true,
   "eqNumInitial": 1,
   "hotkeys": {
    "equation": "Ctrl-E",
    "itemize": "Ctrl-I"
   },
   "labels_anchors": false,
   "latex_user_defs": false,
   "report_style_numbering": false,
   "user_envs_cfg": false
  }
 },
 "nbformat": 4,
 "nbformat_minor": 2
}
